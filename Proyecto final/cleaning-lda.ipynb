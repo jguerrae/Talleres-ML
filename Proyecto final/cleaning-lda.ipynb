{
 "cells": [
  {
   "source": [
    "# LIMPIEZA Y LDA"
   ],
   "cell_type": "markdown",
   "metadata": {}
  },
  {
   "cell_type": "code",
   "execution_count": 2,
   "metadata": {},
   "outputs": [],
   "source": [
    "#IMPORTAR PAQUETES NECESARIOS.\n",
    "import re \n",
    "import matplotlib.pyplot as plt \n",
    "import numpy as np\n",
    "import pandas as pd\n",
    "\n",
    "#MATRIX TÉRMINO-DOCUMENTO\n",
    "from sklearn.feature_extraction.text import CountVectorizer # Vectorizador de palabras y DTM\n",
    "from sklearn.decomposition import LatentDirichletAllocation # Modelo de LDA\n",
    "from scipy.sparse import csr_matrix # Para tratar Sparse Matrix\n",
    "\n",
    "\n",
    "#LDA\n",
    "import pyLDAvis \n",
    "from pyLDAvis import sklearn as sklearnlda #EXPORTAR EL MODELO (VISUALIZACIÓN)\n",
    "\n",
    "#WORDCLOUD\n",
    "from wordcloud import WordCloud\n",
    "\n",
    "\n",
    "#Explicación Log-Likelihood"
   ]
  },
  {
   "cell_type": "code",
   "execution_count": 3,
   "metadata": {},
   "outputs": [],
   "source": [
    "#CAMBIAR AQUÍ EL ARCHIVO\n",
    "df = pd.read_csv(\"grande_filtrada.csv\")"
   ]
  },
  {
   "source": [
    "## Visualización de algunos tweets"
   ],
   "cell_type": "markdown",
   "metadata": {}
  },
  {
   "cell_type": "code",
   "execution_count": 4,
   "metadata": {},
   "outputs": [
    {
     "output_type": "stream",
     "name": "stdout",
     "text": [
      "Twazis says they blocked NY Post's #HunterBiden story cuz they block stories with stolen info.\n\nLet's test their theory &amp; #Leftist agenda in protecting #Biden with the story by the #NYPost on STOLEN secret audio tapes of #Trump!\n\n#LiberalPrivilege #MAGA\n https://t.co/bWriPoqI0d\n\n-------------------------------\n@jack You’re not helping #Biden lmao. On the contrary.\n\n-------------------------------\n@JoeBiden Where’s #JoeBiden hiding out? https://t.co/GWfbafFRCD\n\n-------------------------------\nSo the #FBI received the LAPTOP with the EMAILS and instead of acting on behalf of the American people and pursuing justice, they pushed it under the rug to cover up for #JoeBiden \n#HunterBidenEmails\n\n#ChristopherWray \nResign Now!\n\n-------------------------------\n\"Believe it or not, #Biden will be the next President of the United States.  #Trump lost the election already due to #COVID19.\"\n\nThat's just a prediction.  No one knows the future.  We try to predict it to feel larger than life.  Unafraid of being wrong.\n\nhttps://t.co/AMurxRsiFX\n\n-------------------------------\n#Biden is a liar\n#Twitter is censoring\n\n-------------------------------\n#Trump has been banging on about the #China #Biden  connection from the outset but was played down by #MSM as usual! https://t.co/SiqWtxj66d\n\n-------------------------------\nAnd Trump claims Biden has dementia? \n#DonaldOut #TrumpRally #trumpDementia #Biden #Vote #TrumpIsNotAmerica #MAGA #StopTrumpsTerror https://t.co/cuvce2uIpT\n\n-------------------------------\n#TuckerCarlson is smashing the suppression by #Facebook and #Twitter of #Biden corruption influence-peddling scheme.\n\n-------------------------------\nWhy don't they want us to see this? (Rhetorical 🙄)\n\nHunter Biden and the Big Tech information coup | Spectator USA\n\n#HunterBiden #JoeBiden #Election2020 #censorship  https://t.co/mA46KXQMZv\n\n-------------------------------\nHow could #Facebook and #Twitter make the news about #HunterBiden and #Biden pay for play go viral? \n\nSTART CENSORING THE STORY\n\nThe concept of backfiring still has not gotten through to people who want to suppress voices because their undies are in a knot.\n\n-------------------------------\nOn Tuesday, November 8, I stopped by the store &amp; got myself a single slice of chocolate cake to celebrate as @HillaryClinton won the presidency. \n\nI threw that slice in the trash on 11/9/16, but I will be buying a whole damn cake on November 3, 2020. #BidenHarris2020 #Biden #vote\n\n-------------------------------\n@stephbarlow2 @JoshSchwerin @soledadobrien Disclaimer, totally support dems this #Election2020 but will watch #Trump #FlameShow to nurture the paranoia #Confidence in #JoeBiden lets me do this - it’s not all media numbers, it’s real\n\n-------------------------------\n#HunterBiden #JoeBiden #CorruptDemocrats #Ukraine #bribery #VOTE #Election2020 https://t.co/nSnYm9a94s\n\n-------------------------------\nThe 6 most misleading claims from #JoeBiden:  \n#VoteGOP    #TrumpPence2020 \nhttps://t.co/3xlz5yjOzX\n\n-------------------------------\nRemember when you got caught as a child doing something wrong and your defense was “no you did!” That’s pretty much the Democrats strategy #RussiaHoax #HunterBiden #JoeBiden #UkraineGate #DemocratsHateAmerica\n\n-------------------------------\nBye Bye #Biden Watching @TuckerCarlson - Devastating\n\n-------------------------------\n@kylegriffin1 Actually,  the President was impeached to cover the Lies by #JoeBiden , Obama and Hillary Clinton \n\nThere, I fixed it for you\n\n#FakeNews #EnemyOfThePeople #mediahack\n\n-------------------------------\n@FrankLuntz Yeah, wonder if the @JoeBiden voters would have voted that way knowing that #Biden is a crook.  #NYPost\n\n-------------------------------\n@AdamSchiff Impeached our president for something #JoeBiden did.\n\nWe can’t let this stand\n\n-------------------------------\n"
     ]
    }
   ],
   "source": [
    "#VEAMOS ALGUNOS TWEETS:\n",
    "for i in df[\"tweet\"][30:50]:\n",
    "    print(i)\n",
    "    print(\"\\n-------------------------------\")\n",
    "\n",
    "#EL TRABAJO DE LIMPIEZA ES BASTANTE"
   ]
  },
  {
   "cell_type": "markdown",
   "metadata": {},
   "source": [
    "# LIMPIEZA "
   ]
  },
  {
   "cell_type": "code",
   "execution_count": 6,
   "metadata": {},
   "outputs": [
    {
     "output_type": "stream",
     "name": "stderr",
     "text": [
      "<>:3: DeprecationWarning: invalid escape sequence \\.\n<>:3: DeprecationWarning: invalid escape sequence \\.\n<ipython-input-6-37bf4c3448bd>:3: DeprecationWarning: invalid escape sequence \\.\n  df.tweet=df.tweet.str.replace('[,\\.!?\\-!?\\\\n\\)\\(\\\\r]', ' ') # Borro Puntuaciones\n"
     ]
    }
   ],
   "source": [
    "#LIMPIEZA GENERAL\n",
    "df.tweet=df.tweet.str.lower()  #mayusulas\n",
    "df.tweet=df.tweet.str.replace('[,\\.!?\\-!?\\\\n\\)\\(\\\\r]', ' ') # Borro Puntuaciones\n",
    "df.tweet=df.tweet.str.replace('[0-9]', ' ') # Quito números\n",
    "df.tweet=df.tweet.str.replace('[^a-zA-Záéíóúñ]+', ' ') #CONSERVAR CARACTERES Y ACENTOS\n",
    "df.tweet=df.tweet.str.replace('  +', ' ') #quito espacios innecesarios"
   ]
  },
  {
   "cell_type": "code",
   "execution_count": 7,
   "metadata": {},
   "outputs": [],
   "source": [
    "A = \"spectatorindex lets first wait until all the lawsuits are finalized before corrupt pedo alzheimer racist biden will be president bidenkamala trump trumpcv \""
   ]
  },
  {
   "cell_type": "code",
   "execution_count": 8,
   "metadata": {},
   "outputs": [
    {
     "output_type": "execute_result",
     "data": {
      "text/plain": [
       "['trump', 'trumpcv']"
      ]
     },
     "metadata": {},
     "execution_count": 8
    }
   ],
   "source": [
    "re.findall('trump[A-z]*', A)"
   ]
  },
  {
   "cell_type": "code",
   "execution_count": 9,
   "metadata": {},
   "outputs": [],
   "source": [
    "#ACRONIMOS IMPORTANTES\n",
    "#keep america great. kag\n",
    "#make america great again: maga\n",
    "#black lives matter: blm\n",
    "#grand old party: gop"
   ]
  },
  {
   "cell_type": "code",
   "execution_count": 10,
   "metadata": {},
   "outputs": [],
   "source": [
    "#LIMPIEZA ESPECIFICA\n",
    "df.tweet=df.tweet.str.replace('biden[A-z]*', '') \n",
    "df.tweet=df.tweet.str.replace('joe[A-z]*', '')\n",
    "df.tweet=df.tweet.str.replace('donald[A-z]*', '')\n",
    "df.tweet=df.tweet.str.replace('kamala[A-z]*', '')\n",
    "df.tweet=df.tweet.str.replace('trump[A-z]*', '')\n",
    "df.tweet=df.tweet.str.replace('president[A-z]*', '')\n",
    "df.tweet=df.tweet.str.replace('potus[A-z]*', '')"
   ]
  },
  {
   "cell_type": "code",
   "execution_count": 11,
   "metadata": {},
   "outputs": [],
   "source": [
    "#LIMPIEZA ESPECIFICA DE PALABRAS\n",
    "esp = [\"want\", \"cnn\", \"https\", \"harris\", \"will\", \"just\", \"vote vote\", \"vote early\", \"rally\", \"msnbc\"]\n",
    "for i in esp:\n",
    "    df.tweet=df.tweet.str.replace(i, '')\n"
   ]
  },
  {
   "cell_type": "code",
   "execution_count": 12,
   "metadata": {},
   "outputs": [
    {
     "output_type": "stream",
     "name": "stdout",
     "text": [
      "twazis says they blocked ny post s hunter story cuz they block stories with stolen info let s test their theory amp leftist agenda in protecting  with the story by the nypost on stolen secret audio tapes of  liberalprivilege maga  t co bwripoqi d\n\n------------------------------------------------------------------------------\n jack you re not helping  lmao on the contrary \n\n------------------------------------------------------------------------------\n  where s  hiding out  t co gwfbaffrcd\n\n------------------------------------------------------------------------------\nso the fbi received the laptop with the emails and instead of acting on behalf of the american people and pursuing ice they pushed it under the rug to cover up for  hunter christopherwray resign now \n\n------------------------------------------------------------------------------\n believe it or not   be the next  of the united states  lost the election already due to covid that s  a prediction no one knows the future we try to predict it to feel larger than life unafraid of being wrong  t co amurxrsifx\n\n------------------------------------------------------------------------------\n  is a liar twitter is censoring\n\n------------------------------------------------------------------------------\n  has been banging on about the china  connection from the outset but was played down by msm as usual  t co siqwtxj d\n\n------------------------------------------------------------------------------\nand  claims  has dementia     vote  maga stop  t co cuvce uipt\n\n------------------------------------------------------------------------------\n tuckercarlson is smashing the suppression by facebook and twitter of  corruption influence peddling scheme \n\n------------------------------------------------------------------------------\nwhy don t they  us to see this rhetorical hunter  and the big tech information coup spectator usa hunter  election censorship  t co ma kxqmzv\n\n------------------------------------------------------------------------------\nhow could facebook and twitter make the news about hunter and  pay for play go viral start censoring the story the concept of backfiring still has not gotten through to people who  to suppress voices because their undies are in a knot \n\n------------------------------------------------------------------------------\non tuesday november i stopped by the store amp got myself a single slice of chocolate cake to celebrate as hillaryclinton won the presidency i threw that slice in the trash on but i  be buying a whole damn cake on november   vote\n\n------------------------------------------------------------------------------\n stephbarlow joshschwerin soledadobrien disclaimer totally support dems this election but  watch  flameshow to nurture the paranoia confidence in  lets me do this it s not all media numbers it s real\n\n------------------------------------------------------------------------------\n hunter  corruptdemocrats ukraine bribery vote election  t co nsnym a s\n\n------------------------------------------------------------------------------\nthe most misleading claims from  votegop   t co xlz yjozx\n\n------------------------------------------------------------------------------\nremember when you got caught as a child doing something wrong and your defense was no you did that s pretty much the democrats strategy russiahoax hunter  ukrainegate democratshateamerica\n\n------------------------------------------------------------------------------\nbye bye  watching tuckercarlson devastating\n\n------------------------------------------------------------------------------\n kylegriffin actually the  was impeached to cover the lies by  obama and hillary clinton there i fixed it for you fakenews enemyofthepeople mediahack\n\n------------------------------------------------------------------------------\n frankluntz yeah wonder if the  voters would have voted that way knowing that  is a crook nypost\n\n------------------------------------------------------------------------------\n adamschiff impeached our  for something  did we can t let this stand\n\n------------------------------------------------------------------------------\n"
     ]
    }
   ],
   "source": [
    "#VEAMOS ALGUNOS TWEETS CON LOs CAMBIOS:\n",
    "for i in df[\"tweet\"][30:50]:\n",
    "    print(i)\n",
    "    print(\"\\n------------------------------------------------------------------------------\")\n",
    "\n",
    "#EL TRABAJO DE LIMPIEZA ES BASTANTE"
   ]
  },
  {
   "cell_type": "code",
   "execution_count": 13,
   "metadata": {},
   "outputs": [],
   "source": [
    "#LIMPIEZA DE STOPWORDS\n",
    "# Ahora construiremos la matriz término-documento\n",
    "n_vocab=1500 # máximo tamaño de vocabulario\n",
    "tf_vectorizer = CountVectorizer(max_df=0.8, min_df=2, max_features=n_vocab, stop_words='english', ngram_range=(1,3)) # Al igual que un modelo, defino el objeto que construirá la matriz\n",
    "tf = tf_vectorizer.fit_transform(df.tweet) # Aplico el objeto a un conjunto de textos"
   ]
  },
  {
   "cell_type": "code",
   "execution_count": 226,
   "metadata": {},
   "outputs": [
    {
     "output_type": "stream",
     "name": "stdout",
     "text": [
      "iteration: 1 of max_iter: 11\n",
      "iteration: 2 of max_iter: 11\n",
      "iteration: 3 of max_iter: 11\n",
      "iteration: 4 of max_iter: 11\n",
      "iteration: 5 of max_iter: 11\n",
      "iteration: 6 of max_iter: 11\n",
      "iteration: 7 of max_iter: 11\n",
      "iteration: 8 of max_iter: 11\n",
      "iteration: 9 of max_iter: 11\n",
      "iteration: 10 of max_iter: 11\n",
      "iteration: 11 of max_iter: 11\n",
      "iteration: 1 of max_iter: 11\n",
      "iteration: 2 of max_iter: 11\n",
      "iteration: 3 of max_iter: 11\n",
      "iteration: 4 of max_iter: 11\n",
      "iteration: 5 of max_iter: 11\n",
      "iteration: 6 of max_iter: 11\n",
      "iteration: 7 of max_iter: 11\n",
      "iteration: 8 of max_iter: 11\n",
      "iteration: 9 of max_iter: 11\n",
      "iteration: 10 of max_iter: 11\n",
      "iteration: 11 of max_iter: 11\n",
      "iteration: 1 of max_iter: 11\n",
      "iteration: 2 of max_iter: 11\n",
      "iteration: 3 of max_iter: 11\n",
      "iteration: 4 of max_iter: 11\n",
      "iteration: 5 of max_iter: 11\n",
      "iteration: 6 of max_iter: 11\n",
      "iteration: 7 of max_iter: 11\n",
      "iteration: 8 of max_iter: 11\n",
      "iteration: 9 of max_iter: 11\n",
      "iteration: 10 of max_iter: 11\n",
      "iteration: 11 of max_iter: 11\n",
      "iteration: 1 of max_iter: 11\n",
      "iteration: 2 of max_iter: 11\n",
      "iteration: 3 of max_iter: 11\n",
      "iteration: 4 of max_iter: 11\n",
      "iteration: 5 of max_iter: 11\n",
      "iteration: 6 of max_iter: 11\n",
      "iteration: 7 of max_iter: 11\n",
      "iteration: 8 of max_iter: 11\n",
      "iteration: 9 of max_iter: 11\n",
      "iteration: 10 of max_iter: 11\n",
      "iteration: 11 of max_iter: 11\n",
      "iteration: 1 of max_iter: 11\n"
     ]
    },
    {
     "output_type": "error",
     "ename": "KeyboardInterrupt",
     "evalue": "",
     "traceback": [
      "\u001b[1;31m---------------------------------------------------------------------------\u001b[0m",
      "\u001b[1;31mKeyboardInterrupt\u001b[0m                         Traceback (most recent call last)",
      "\u001b[1;32m<ipython-input-226-99e4ccd7a0e4>\u001b[0m in \u001b[0;36m<module>\u001b[1;34m\u001b[0m\n\u001b[0;32m      1\u001b[0m \u001b[1;32mfor\u001b[0m \u001b[0mi\u001b[0m \u001b[1;32min\u001b[0m \u001b[0mrange\u001b[0m\u001b[1;33m(\u001b[0m\u001b[1;36m4\u001b[0m\u001b[1;33m,\u001b[0m\u001b[1;36m20\u001b[0m\u001b[1;33m)\u001b[0m\u001b[1;33m:\u001b[0m\u001b[1;33m\u001b[0m\u001b[1;33m\u001b[0m\u001b[0m\n\u001b[0;32m      2\u001b[0m     \u001b[0mlda\u001b[0m \u001b[1;33m=\u001b[0m \u001b[0mLatentDirichletAllocation\u001b[0m\u001b[1;33m(\u001b[0m\u001b[0mn_components\u001b[0m\u001b[1;33m=\u001b[0m\u001b[0mi\u001b[0m\u001b[1;33m,\u001b[0m \u001b[0mmax_iter\u001b[0m\u001b[1;33m=\u001b[0m\u001b[1;36m11\u001b[0m\u001b[1;33m,\u001b[0m\u001b[0mdoc_topic_prior\u001b[0m\u001b[1;33m=\u001b[0m\u001b[1;36m0.1\u001b[0m\u001b[1;33m,\u001b[0m \u001b[0mtopic_word_prior\u001b[0m\u001b[1;33m=\u001b[0m\u001b[1;36m0.1\u001b[0m\u001b[1;33m,\u001b[0m \u001b[0mn_jobs\u001b[0m\u001b[1;33m=\u001b[0m\u001b[1;33m-\u001b[0m\u001b[1;36m1\u001b[0m\u001b[1;33m,\u001b[0m\u001b[0mrandom_state\u001b[0m\u001b[1;33m=\u001b[0m\u001b[1;36m353\u001b[0m\u001b[1;33m,\u001b[0m \u001b[0mverbose\u001b[0m\u001b[1;33m=\u001b[0m\u001b[1;36m1\u001b[0m\u001b[1;33m)\u001b[0m \u001b[1;31m#CONSTRUYO EL MODELO\u001b[0m\u001b[1;33m\u001b[0m\u001b[1;33m\u001b[0m\u001b[0m\n\u001b[1;32m----> 3\u001b[1;33m     \u001b[0mlda\u001b[0m\u001b[1;33m.\u001b[0m\u001b[0mfit\u001b[0m\u001b[1;33m(\u001b[0m\u001b[0mtf\u001b[0m\u001b[1;33m)\u001b[0m \u001b[1;31m# Esti\u001b[0m\u001b[1;33m\u001b[0m\u001b[1;33m\u001b[0m\u001b[0m\n\u001b[0m\u001b[0;32m      4\u001b[0m     \u001b[0mLDAvis_prepared\u001b[0m\u001b[1;33m=\u001b[0m\u001b[0msklearnlda\u001b[0m\u001b[1;33m.\u001b[0m\u001b[0mprepare\u001b[0m\u001b[1;33m(\u001b[0m\u001b[0mlda\u001b[0m\u001b[1;33m,\u001b[0m \u001b[0mtf\u001b[0m\u001b[1;33m,\u001b[0m \u001b[0mtf_vectorizer\u001b[0m \u001b[1;33m)\u001b[0m \u001b[1;31m# Preparo el modelo y sus resultados para la visualización\u001b[0m\u001b[1;33m\u001b[0m\u001b[1;33m\u001b[0m\u001b[0m\n\u001b[0;32m      5\u001b[0m     \u001b[0mpyLDAvis\u001b[0m\u001b[1;33m.\u001b[0m\u001b[0msave_html\u001b[0m\u001b[1;33m(\u001b[0m\u001b[0mLDAvis_prepared\u001b[0m\u001b[1;33m,\u001b[0m \u001b[1;34mf'LDA_{i}.html'\u001b[0m\u001b[1;33m)\u001b[0m\u001b[1;33m\u001b[0m\u001b[1;33m\u001b[0m\u001b[0m\n",
      "\u001b[1;32m~\\anaconda3\\lib\\site-packages\\sklearn\\decomposition\\_lda.py\u001b[0m in \u001b[0;36mfit\u001b[1;34m(self, X, y)\u001b[0m\n\u001b[0;32m    577\u001b[0m                 \u001b[1;32melse\u001b[0m\u001b[1;33m:\u001b[0m\u001b[1;33m\u001b[0m\u001b[1;33m\u001b[0m\u001b[0m\n\u001b[0;32m    578\u001b[0m                     \u001b[1;31m# batch update\u001b[0m\u001b[1;33m\u001b[0m\u001b[1;33m\u001b[0m\u001b[1;33m\u001b[0m\u001b[0m\n\u001b[1;32m--> 579\u001b[1;33m                     self._em_step(X, total_samples=n_samples,\n\u001b[0m\u001b[0;32m    580\u001b[0m                                   batch_update=True, parallel=parallel)\n\u001b[0;32m    581\u001b[0m \u001b[1;33m\u001b[0m\u001b[0m\n",
      "\u001b[1;32m~\\anaconda3\\lib\\site-packages\\sklearn\\decomposition\\_lda.py\u001b[0m in \u001b[0;36m_em_step\u001b[1;34m(self, X, total_samples, batch_update, parallel)\u001b[0m\n\u001b[0;32m    445\u001b[0m \u001b[1;33m\u001b[0m\u001b[0m\n\u001b[0;32m    446\u001b[0m         \u001b[1;31m# E-step\u001b[0m\u001b[1;33m\u001b[0m\u001b[1;33m\u001b[0m\u001b[1;33m\u001b[0m\u001b[0m\n\u001b[1;32m--> 447\u001b[1;33m         _, suff_stats = self._e_step(X, cal_sstats=True, random_init=True,\n\u001b[0m\u001b[0;32m    448\u001b[0m                                      parallel=parallel)\n\u001b[0;32m    449\u001b[0m \u001b[1;33m\u001b[0m\u001b[0m\n",
      "\u001b[1;32m~\\anaconda3\\lib\\site-packages\\sklearn\\decomposition\\_lda.py\u001b[0m in \u001b[0;36m_e_step\u001b[1;34m(self, X, cal_sstats, random_init, parallel)\u001b[0m\n\u001b[0;32m    392\u001b[0m             parallel = Parallel(n_jobs=n_jobs, verbose=max(0,\n\u001b[0;32m    393\u001b[0m                                                            self.verbose - 1))\n\u001b[1;32m--> 394\u001b[1;33m         results = parallel(\n\u001b[0m\u001b[0;32m    395\u001b[0m             delayed(_update_doc_distribution)(X[idx_slice, :],\n\u001b[0;32m    396\u001b[0m                                               \u001b[0mself\u001b[0m\u001b[1;33m.\u001b[0m\u001b[0mexp_dirichlet_component_\u001b[0m\u001b[1;33m,\u001b[0m\u001b[1;33m\u001b[0m\u001b[1;33m\u001b[0m\u001b[0m\n",
      "\u001b[1;32m~\\anaconda3\\lib\\site-packages\\joblib\\parallel.py\u001b[0m in \u001b[0;36m__call__\u001b[1;34m(self, iterable)\u001b[0m\n\u001b[0;32m   1059\u001b[0m \u001b[1;33m\u001b[0m\u001b[0m\n\u001b[0;32m   1060\u001b[0m             \u001b[1;32mwith\u001b[0m \u001b[0mself\u001b[0m\u001b[1;33m.\u001b[0m\u001b[0m_backend\u001b[0m\u001b[1;33m.\u001b[0m\u001b[0mretrieval_context\u001b[0m\u001b[1;33m(\u001b[0m\u001b[1;33m)\u001b[0m\u001b[1;33m:\u001b[0m\u001b[1;33m\u001b[0m\u001b[1;33m\u001b[0m\u001b[0m\n\u001b[1;32m-> 1061\u001b[1;33m                 \u001b[0mself\u001b[0m\u001b[1;33m.\u001b[0m\u001b[0mretrieve\u001b[0m\u001b[1;33m(\u001b[0m\u001b[1;33m)\u001b[0m\u001b[1;33m\u001b[0m\u001b[1;33m\u001b[0m\u001b[0m\n\u001b[0m\u001b[0;32m   1062\u001b[0m             \u001b[1;31m# Make sure that we get a last message telling us we are done\u001b[0m\u001b[1;33m\u001b[0m\u001b[1;33m\u001b[0m\u001b[1;33m\u001b[0m\u001b[0m\n\u001b[0;32m   1063\u001b[0m             \u001b[0melapsed_time\u001b[0m \u001b[1;33m=\u001b[0m \u001b[0mtime\u001b[0m\u001b[1;33m.\u001b[0m\u001b[0mtime\u001b[0m\u001b[1;33m(\u001b[0m\u001b[1;33m)\u001b[0m \u001b[1;33m-\u001b[0m \u001b[0mself\u001b[0m\u001b[1;33m.\u001b[0m\u001b[0m_start_time\u001b[0m\u001b[1;33m\u001b[0m\u001b[1;33m\u001b[0m\u001b[0m\n",
      "\u001b[1;32m~\\anaconda3\\lib\\site-packages\\joblib\\parallel.py\u001b[0m in \u001b[0;36mretrieve\u001b[1;34m(self)\u001b[0m\n\u001b[0;32m    938\u001b[0m             \u001b[1;32mtry\u001b[0m\u001b[1;33m:\u001b[0m\u001b[1;33m\u001b[0m\u001b[1;33m\u001b[0m\u001b[0m\n\u001b[0;32m    939\u001b[0m                 \u001b[1;32mif\u001b[0m \u001b[0mgetattr\u001b[0m\u001b[1;33m(\u001b[0m\u001b[0mself\u001b[0m\u001b[1;33m.\u001b[0m\u001b[0m_backend\u001b[0m\u001b[1;33m,\u001b[0m \u001b[1;34m'supports_timeout'\u001b[0m\u001b[1;33m,\u001b[0m \u001b[1;32mFalse\u001b[0m\u001b[1;33m)\u001b[0m\u001b[1;33m:\u001b[0m\u001b[1;33m\u001b[0m\u001b[1;33m\u001b[0m\u001b[0m\n\u001b[1;32m--> 940\u001b[1;33m                     \u001b[0mself\u001b[0m\u001b[1;33m.\u001b[0m\u001b[0m_output\u001b[0m\u001b[1;33m.\u001b[0m\u001b[0mextend\u001b[0m\u001b[1;33m(\u001b[0m\u001b[0mjob\u001b[0m\u001b[1;33m.\u001b[0m\u001b[0mget\u001b[0m\u001b[1;33m(\u001b[0m\u001b[0mtimeout\u001b[0m\u001b[1;33m=\u001b[0m\u001b[0mself\u001b[0m\u001b[1;33m.\u001b[0m\u001b[0mtimeout\u001b[0m\u001b[1;33m)\u001b[0m\u001b[1;33m)\u001b[0m\u001b[1;33m\u001b[0m\u001b[1;33m\u001b[0m\u001b[0m\n\u001b[0m\u001b[0;32m    941\u001b[0m                 \u001b[1;32melse\u001b[0m\u001b[1;33m:\u001b[0m\u001b[1;33m\u001b[0m\u001b[1;33m\u001b[0m\u001b[0m\n\u001b[0;32m    942\u001b[0m                     \u001b[0mself\u001b[0m\u001b[1;33m.\u001b[0m\u001b[0m_output\u001b[0m\u001b[1;33m.\u001b[0m\u001b[0mextend\u001b[0m\u001b[1;33m(\u001b[0m\u001b[0mjob\u001b[0m\u001b[1;33m.\u001b[0m\u001b[0mget\u001b[0m\u001b[1;33m(\u001b[0m\u001b[1;33m)\u001b[0m\u001b[1;33m)\u001b[0m\u001b[1;33m\u001b[0m\u001b[1;33m\u001b[0m\u001b[0m\n",
      "\u001b[1;32m~\\anaconda3\\lib\\site-packages\\joblib\\_parallel_backends.py\u001b[0m in \u001b[0;36mwrap_future_result\u001b[1;34m(future, timeout)\u001b[0m\n\u001b[0;32m    540\u001b[0m         AsyncResults.get from multiprocessing.\"\"\"\n\u001b[0;32m    541\u001b[0m         \u001b[1;32mtry\u001b[0m\u001b[1;33m:\u001b[0m\u001b[1;33m\u001b[0m\u001b[1;33m\u001b[0m\u001b[0m\n\u001b[1;32m--> 542\u001b[1;33m             \u001b[1;32mreturn\u001b[0m \u001b[0mfuture\u001b[0m\u001b[1;33m.\u001b[0m\u001b[0mresult\u001b[0m\u001b[1;33m(\u001b[0m\u001b[0mtimeout\u001b[0m\u001b[1;33m=\u001b[0m\u001b[0mtimeout\u001b[0m\u001b[1;33m)\u001b[0m\u001b[1;33m\u001b[0m\u001b[1;33m\u001b[0m\u001b[0m\n\u001b[0m\u001b[0;32m    543\u001b[0m         \u001b[1;32mexcept\u001b[0m \u001b[0mCfTimeoutError\u001b[0m \u001b[1;32mas\u001b[0m \u001b[0me\u001b[0m\u001b[1;33m:\u001b[0m\u001b[1;33m\u001b[0m\u001b[1;33m\u001b[0m\u001b[0m\n\u001b[0;32m    544\u001b[0m             \u001b[1;32mraise\u001b[0m \u001b[0mTimeoutError\u001b[0m \u001b[1;32mfrom\u001b[0m \u001b[0me\u001b[0m\u001b[1;33m\u001b[0m\u001b[1;33m\u001b[0m\u001b[0m\n",
      "\u001b[1;32m~\\anaconda3\\lib\\concurrent\\futures\\_base.py\u001b[0m in \u001b[0;36mresult\u001b[1;34m(self, timeout)\u001b[0m\n\u001b[0;32m    432\u001b[0m                 \u001b[1;32mreturn\u001b[0m \u001b[0mself\u001b[0m\u001b[1;33m.\u001b[0m\u001b[0m__get_result\u001b[0m\u001b[1;33m(\u001b[0m\u001b[1;33m)\u001b[0m\u001b[1;33m\u001b[0m\u001b[1;33m\u001b[0m\u001b[0m\n\u001b[0;32m    433\u001b[0m \u001b[1;33m\u001b[0m\u001b[0m\n\u001b[1;32m--> 434\u001b[1;33m             \u001b[0mself\u001b[0m\u001b[1;33m.\u001b[0m\u001b[0m_condition\u001b[0m\u001b[1;33m.\u001b[0m\u001b[0mwait\u001b[0m\u001b[1;33m(\u001b[0m\u001b[0mtimeout\u001b[0m\u001b[1;33m)\u001b[0m\u001b[1;33m\u001b[0m\u001b[1;33m\u001b[0m\u001b[0m\n\u001b[0m\u001b[0;32m    435\u001b[0m \u001b[1;33m\u001b[0m\u001b[0m\n\u001b[0;32m    436\u001b[0m             \u001b[1;32mif\u001b[0m \u001b[0mself\u001b[0m\u001b[1;33m.\u001b[0m\u001b[0m_state\u001b[0m \u001b[1;32min\u001b[0m \u001b[1;33m[\u001b[0m\u001b[0mCANCELLED\u001b[0m\u001b[1;33m,\u001b[0m \u001b[0mCANCELLED_AND_NOTIFIED\u001b[0m\u001b[1;33m]\u001b[0m\u001b[1;33m:\u001b[0m\u001b[1;33m\u001b[0m\u001b[1;33m\u001b[0m\u001b[0m\n",
      "\u001b[1;32m~\\anaconda3\\lib\\threading.py\u001b[0m in \u001b[0;36mwait\u001b[1;34m(self, timeout)\u001b[0m\n\u001b[0;32m    300\u001b[0m         \u001b[1;32mtry\u001b[0m\u001b[1;33m:\u001b[0m    \u001b[1;31m# restore state no matter what (e.g., KeyboardInterrupt)\u001b[0m\u001b[1;33m\u001b[0m\u001b[1;33m\u001b[0m\u001b[0m\n\u001b[0;32m    301\u001b[0m             \u001b[1;32mif\u001b[0m \u001b[0mtimeout\u001b[0m \u001b[1;32mis\u001b[0m \u001b[1;32mNone\u001b[0m\u001b[1;33m:\u001b[0m\u001b[1;33m\u001b[0m\u001b[1;33m\u001b[0m\u001b[0m\n\u001b[1;32m--> 302\u001b[1;33m                 \u001b[0mwaiter\u001b[0m\u001b[1;33m.\u001b[0m\u001b[0macquire\u001b[0m\u001b[1;33m(\u001b[0m\u001b[1;33m)\u001b[0m\u001b[1;33m\u001b[0m\u001b[1;33m\u001b[0m\u001b[0m\n\u001b[0m\u001b[0;32m    303\u001b[0m                 \u001b[0mgotit\u001b[0m \u001b[1;33m=\u001b[0m \u001b[1;32mTrue\u001b[0m\u001b[1;33m\u001b[0m\u001b[1;33m\u001b[0m\u001b[0m\n\u001b[0;32m    304\u001b[0m             \u001b[1;32melse\u001b[0m\u001b[1;33m:\u001b[0m\u001b[1;33m\u001b[0m\u001b[1;33m\u001b[0m\u001b[0m\n",
      "\u001b[1;31mKeyboardInterrupt\u001b[0m: "
     ]
    }
   ],
   "source": [
    "for i in range(4,20):\n",
    "    lda = LatentDirichletAllocation(n_components=i, max_iter=11,doc_topic_prior=0.1, topic_word_prior=0.1, n_jobs=-1,random_state=353, verbose=1) #CONSTRUYO EL MODELO\n",
    "    lda.fit(tf) # Esti\n",
    "    LDAvis_prepared=sklearnlda.prepare(lda, tf, tf_vectorizer ) # Preparo el modelo y sus resultados para la visualización\n",
    "    pyLDAvis.save_html(LDAvis_prepared, f'LDA_{i}.html')"
   ]
  },
  {
   "cell_type": "code",
   "execution_count": null,
   "metadata": {},
   "outputs": [],
   "source": [
    "##HAY QUE ELIMINAR TODAS LAS PALABRAS COMO JOE BIEN Y TRUMO Y SUS VARIANTES, KAMALA, HTTPS, DEBATES O CAMBIARLAS -->ok"
   ]
  },
  {
   "cell_type": "code",
   "execution_count": null,
   "metadata": {},
   "outputs": [],
   "source": [
    "##ELIMINAR PALABRAS CON MENOS DE DOS PALABRAS: LOS, PENDE, POR, DON, SAID, PLAN, YEARS, QUE, DEL, DAY\n",
    "##PERMITIR NGRAMAS"
   ]
  },
  {
   "cell_type": "code",
   "execution_count": null,
   "metadata": {},
   "outputs": [],
   "source": []
  },
  {
   "cell_type": "code",
   "execution_count": null,
   "metadata": {},
   "outputs": [],
   "source": []
  },
  {
   "cell_type": "code",
   "execution_count": null,
   "metadata": {},
   "outputs": [],
   "source": []
  },
  {
   "cell_type": "code",
   "execution_count": null,
   "metadata": {},
   "outputs": [],
   "source": []
  },
  {
   "cell_type": "code",
   "execution_count": null,
   "metadata": {},
   "outputs": [],
   "source": []
  },
  {
   "cell_type": "code",
   "execution_count": null,
   "metadata": {},
   "outputs": [],
   "source": []
  },
  {
   "cell_type": "code",
   "execution_count": null,
   "metadata": {},
   "outputs": [],
   "source": []
  }
 ],
 "metadata": {
  "kernelspec": {
   "name": "python385jvsc74a57bd006cb5fed7a19db1a3b234843391dc1a69eede94e92f070202b04797e91c1cb37",
   "display_name": "Python 3.8.5 64-bit (conda)"
  },
  "language_info": {
   "codemirror_mode": {
    "name": "ipython",
    "version": 3
   },
   "file_extension": ".py",
   "mimetype": "text/x-python",
   "name": "python",
   "nbconvert_exporter": "python",
   "pygments_lexer": "ipython3",
   "version": "3.8.5"
  }
 },
 "nbformat": 4,
 "nbformat_minor": 2
}