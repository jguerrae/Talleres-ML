{
 "cells": [
  {
   "source": [
    "# LIMPIEZA Y LDA"
   ],
   "cell_type": "markdown",
   "metadata": {}
  },
  {
   "cell_type": "code",
   "execution_count": 1,
   "metadata": {},
   "outputs": [],
   "source": [
    "#IMPORTAR PAQUETES NECESARIOS.\n",
    "import re \n",
    "import matplotlib.pyplot as plt \n",
    "import numpy as np\n",
    "import pandas as pd\n",
    "import tqdm as tqdm\n",
    "\n",
    "#MATRIX TÉRMINO-DOCUMENTO\n",
    "from sklearn.feature_extraction.text import CountVectorizer # Vectorizador de palabras y DTM\n",
    "from sklearn.decomposition import LatentDirichletAllocation # Modelo de LDA\n",
    "from scipy.sparse import csr_matrix # Para tratar Sparse Matrix\n",
    "\n",
    "#DIVIDIR BASE\n",
    "from sklearn.model_selection import train_test_split\n",
    "\n",
    "#LDA\n",
    "import pyLDAvis \n",
    "from pyLDAvis import sklearn as sklearnlda #EXPORTAR EL MODELO (VISUALIZACIÓN)\n",
    "\n",
    "#WORDCLOUD\n",
    "from wordcloud import WordCloud\n",
    "\n",
    "#Explicación Log-Likelihood"
   ]
  },
  {
   "cell_type": "code",
   "execution_count": 2,
   "metadata": {},
   "outputs": [],
   "source": [
    "#IMPORTAR BASE\n",
    "df = pd.read_csv(\"grande_filtrada.csv\")"
   ]
  },
  {
   "cell_type": "code",
   "execution_count": 3,
   "metadata": {},
   "outputs": [],
   "source": [
    "#DIVIDIR BASE PARA TRABAJAR CON UNA MEJOR EFICIENCIA\n",
    "# np.random.seed(2)\n",
    "# df_resto, df = train_test_split(df1,test_size=0.2)\n",
    "# df = df.reset_index(drop=True)"
   ]
  },
  {
   "cell_type": "code",
   "execution_count": 4,
   "metadata": {},
   "outputs": [
    {
     "output_type": "stream",
     "name": "stdout",
     "text": [
      "And Trump claims Biden has dementia? \n#DonaldOut #TrumpRally #trumpDementia #Biden #Vote #TrumpIsNotAmerica #MAGA #StopTrumpsTerror https://t.co/cuvce2uIpT \n-------------------------------\n\n#TuckerCarlson is smashing the suppression by #Facebook and #Twitter of #Biden corruption influence-peddling scheme. \n-------------------------------\n\nWhy don't they want us to see this? (Rhetorical 🙄)\n\nHunter Biden and the Big Tech information coup | Spectator USA\n\n#HunterBiden #JoeBiden #Election2020 #censorship  https://t.co/mA46KXQMZv \n-------------------------------\n\nHow could #Facebook and #Twitter make the news about #HunterBiden and #Biden pay for play go viral? \n\nSTART CENSORING THE STORY\n\nThe concept of backfiring still has not gotten through to people who want to suppress voices because their undies are in a knot. \n-------------------------------\n\n"
     ]
    }
   ],
   "source": [
    "#VEAMOS ALGUNOS TWEETS:\n",
    "for i in df[\"tweet\"][37:41]:\n",
    "    print(i, \"\\n-------------------------------\")\n",
    "    print()\n",
    "\n",
    "#EL TRABAJO DE LIMPIEZA ES BASTANTE"
   ]
  },
  {
   "cell_type": "markdown",
   "metadata": {},
   "source": [
    "# LIMPIEZA "
   ]
  },
  {
   "cell_type": "code",
   "execution_count": 5,
   "metadata": {},
   "outputs": [],
   "source": [
    "#ACRONIMOS IMPORTANTES\n",
    "#keep america great. kag\n",
    "#make america great again: maga\n",
    "#black lives matter: blm\n",
    "#grand old party: gop"
   ]
  },
  {
   "cell_type": "code",
   "execution_count": 6,
   "metadata": {},
   "outputs": [
    {
     "output_type": "stream",
     "name": "stderr",
     "text": [
      "<>:3: DeprecationWarning: invalid escape sequence \\.\n<>:3: DeprecationWarning: invalid escape sequence \\.\n<ipython-input-6-ce3865de62fd>:3: DeprecationWarning: invalid escape sequence \\.\n  df.tweet=df.tweet.str.replace('[,\\.!?\\-!?\\n\\)\\(\\r]', ' ') # Borro Puntuaciones\n"
     ]
    }
   ],
   "source": [
    "#LIMPIEZA GENERAL\n",
    "df.tweet=df.tweet.str.lower()  #mayusulas\n",
    "df.tweet=df.tweet.str.replace('[,\\.!?\\-!?\\n\\)\\(\\r]', ' ') # Borro Puntuaciones\n",
    "df.tweet=df.tweet.str.replace('[0-9]', ' ') # Quito números\n",
    "df.tweet=df.tweet.str.replace('[^a-zA-Záéíóúñ]+', ' ') #CONSERVAR CARACTERES Y ACENTOS\n",
    "df.tweet=df.tweet.str.replace(' +', ' ') #quito espacios innecesarios"
   ]
  },
  {
   "cell_type": "code",
   "execution_count": 7,
   "metadata": {},
   "outputs": [],
   "source": [
    "#LIMPIEZA ESPECIFICA\n",
    "df.tweet=df.tweet.str.replace('biden[A-z]*', '') \n",
    "df.tweet=df.tweet.str.replace('joe[A-z]*', '')\n",
    "df.tweet=df.tweet.str.replace('donald[A-z]*', '')\n",
    "df.tweet=df.tweet.str.replace('kamala[A-z]*', '')\n",
    "df.tweet=df.tweet.str.replace('trump[A-z]*', '')\n",
    "df.tweet=df.tweet.str.replace('president[A-z]*', '')\n",
    "df.tweet=df.tweet.str.replace('potus[A-z]*', '')\n",
    "df.tweet=df.tweet.str.replace(r'\\b\\w{1,2}\\b', '')"
   ]
  },
  {
   "cell_type": "code",
   "execution_count": 8,
   "metadata": {},
   "outputs": [],
   "source": [
    "#LIMPIEZA ESPECIFICA DE PALABRAS\n",
    "esp = [\"want\", \"cnn\", \"https\", \"harris\", \"will\", \"just\", \"vote vote\", \"vote early\", \" rally \", \" msnbc \", \" did \" , \" let \", \" said \", \" doesn \", \" don \", \" know \", \" plan \", \" said \", \" que \", \" los \", \" reall y\", \" way \", \" are \", \" day \", \"united\", \"states\", \" real \",\" eric \", \" man \", \" bye \"]\n",
    "\n",
    "for i in esp:\n",
    "    df.tweet=df.tweet.str.replace(i, '')"
   ]
  },
  {
   "cell_type": "code",
   "execution_count": 9,
   "metadata": {},
   "outputs": [],
   "source": [
    "df.tweet=df.tweet.str.replace(' +', ' ') "
   ]
  },
  {
   "cell_type": "code",
   "execution_count": 10,
   "metadata": {},
   "outputs": [
    {
     "output_type": "stream",
     "name": "stdout",
     "text": [
      "twazis says they blocked post hunter story cuz they block stories with stolen info test their theory amp leftist agenda protecting with the story the nypost stolen secret audio tapes liberalprivilege maga bwripoqi \n\n------------------------------------------------------------------------------\n jack you not helping lmao the contrary \n\n------------------------------------------------------------------------------\n where hiding out gwfbaffrcd\n\n------------------------------------------------------------------------------\n the fbi received the laptop with the emails and instead acting behalf the american people and pursuing ice they pushed under the rug cover for hunter christopherwray resign now \n\n------------------------------------------------------------------------------\n believe not the next the lost the election already due covid that prediction one knows the future try predict feel larger than life unafraid being wrong amurxrsifx\n\n------------------------------------------------------------------------------\n liar twitter censoring\n\n------------------------------------------------------------------------------\n"
     ]
    }
   ],
   "source": [
    "#VEAMOS ALGUNOS TWEETS CON LOs CAMBIOS:\n",
    "for i in df[\"tweet\"][30:36]:\n",
    "    print(i)\n",
    "    print(\"\\n------------------------------------------------------------------------------\")\n",
    "\n",
    "#EL TRABAJO DE LIMPIEZA ES BASTANTE"
   ]
  },
  {
   "cell_type": "code",
   "execution_count": 11,
   "metadata": {},
   "outputs": [],
   "source": [
    "#MATRIZ TERMINO DOCUMENTOS\n",
    "\n",
    "# Ahora construiremos la matriz término-documento\n",
    "n_vocab=1500 # máximo tamaño de vocabulario\n",
    "tf_vectorizer = CountVectorizer(max_df=0.8, min_df=2, max_features=n_vocab, stop_words='english', ngram_range=(1,4)) # Al igual que un modelo, defino el objeto que construirá la matriz\n",
    "tf = tf_vectorizer.fit_transform(df.tweet) # Aplico el objeto a un conjunto de textos"
   ]
  },
  {
   "cell_type": "code",
   "execution_count": 12,
   "metadata": {},
   "outputs": [
    {
     "output_type": "stream",
     "name": "stdout",
     "text": [
      "iteration: 1 of max_iter: 11\n",
      "iteration: 2 of max_iter: 11\n",
      "iteration: 3 of max_iter: 11\n",
      "iteration: 4 of max_iter: 11\n",
      "iteration: 5 of max_iter: 11\n",
      "iteration: 6 of max_iter: 11\n",
      "iteration: 7 of max_iter: 11\n",
      "iteration: 8 of max_iter: 11\n",
      "iteration: 9 of max_iter: 11\n",
      "iteration: 10 of max_iter: 11\n",
      "iteration: 11 of max_iter: 11\n"
     ]
    }
   ],
   "source": [
    "for i in range(10,11):\n",
    "    lda = LatentDirichletAllocation(n_components=i, max_iter=11,doc_topic_prior=0.1, topic_word_prior=0.1, n_jobs=-1,random_state=353, verbose=1) #CONSTRUYO EL MODELO\n",
    "    lda.fit(tf) # Esti\n",
    "    LDAvis_prepared=sklearnlda.prepare(lda, tf, tf_vectorizer ) # Preparo el modelo y sus resultados para la visualización\n",
    "    pyLDAvis.save_html(LDAvis_prepared, f'LDA_{i}.html')"
   ]
  },
  {
   "cell_type": "code",
   "execution_count": null,
   "metadata": {},
   "outputs": [],
   "source": [
    "##HAY QUE ELIMINAR TODAS LAS PALABRAS COMO JOE BIEN Y TRUMO Y SUS VARIANTES, KAMALA, HTTPS, DEBATES O CAMBIARLAS -->ok"
   ]
  },
  {
   "cell_type": "code",
   "execution_count": null,
   "metadata": {},
   "outputs": [],
   "source": [
    "##ELIMINAR PALABRAS CON MENOS DE DOS PALABRAS: LOS, PENDE, POR, DON, SAID, PLAN, YEARS, QUE, DEL, DAY\n",
    "##PERMITIR NGRAMAS"
   ]
  },
  {
   "cell_type": "code",
   "execution_count": null,
   "metadata": {},
   "outputs": [],
   "source": []
  },
  {
   "cell_type": "code",
   "execution_count": null,
   "metadata": {},
   "outputs": [],
   "source": []
  },
  {
   "cell_type": "code",
   "execution_count": null,
   "metadata": {},
   "outputs": [],
   "source": []
  },
  {
   "cell_type": "code",
   "execution_count": null,
   "metadata": {},
   "outputs": [],
   "source": []
  },
  {
   "cell_type": "code",
   "execution_count": null,
   "metadata": {},
   "outputs": [],
   "source": []
  },
  {
   "cell_type": "code",
   "execution_count": null,
   "metadata": {},
   "outputs": [],
   "source": []
  },
  {
   "cell_type": "code",
   "execution_count": null,
   "metadata": {},
   "outputs": [],
   "source": []
  }
 ],
 "metadata": {
  "kernelspec": {
   "name": "python385jvsc74a57bd006cb5fed7a19db1a3b234843391dc1a69eede94e92f070202b04797e91c1cb37",
   "display_name": "Python 3.8.5 64-bit (conda)"
  },
  "language_info": {
   "codemirror_mode": {
    "name": "ipython",
    "version": 3
   },
   "file_extension": ".py",
   "mimetype": "text/x-python",
   "name": "python",
   "nbconvert_exporter": "python",
   "pygments_lexer": "ipython3",
   "version": "3.8.5"
  }
 },
 "nbformat": 4,
 "nbformat_minor": 2
}